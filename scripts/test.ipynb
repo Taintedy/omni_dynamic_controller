{
 "cells": [
  {
   "cell_type": "code",
   "execution_count": 4,
   "metadata": {},
   "outputs": [
    {
     "data": {
      "text/plain": [
       "array([[-1.6122e+01,  9.3078e+00,  2.2324e+00, -1.9686e+00,  1.1369e+00,\n",
       "         1.4764e-01,  2.0985e-01,  4.5702e-02,  4.5720e-02],\n",
       "       [-1.7989e-13, -1.8616e+01,  2.2324e+00,  8.7798e-15, -2.2737e+00,\n",
       "         1.4764e-01,  4.5702e-02,  2.0987e-01,  4.5702e-02],\n",
       "       [ 1.6122e+01,  9.3078e+00,  2.2324e+00,  1.9686e+00,  1.1369e+00,\n",
       "         1.4764e-01,  4.5720e-02,  4.5702e-02,  2.0985e-01]])"
      ]
     },
     "execution_count": 4,
     "metadata": {},
     "output_type": "execute_result"
    }
   ],
   "source": [
    "import numpy as np\n",
    "K_fsfb =  np.genfromtxt('K_fsfb.csv', delimiter=',')\n",
    "K_fsfb"
   ]
  }
 ],
 "metadata": {
  "interpreter": {
   "hash": "2647ea34e536f865ab67ff9ddee7fd78773d956cec0cab53c79b32cd10da5d83"
  },
  "kernelspec": {
   "display_name": "Python 3.9.2 64-bit",
   "language": "python",
   "name": "python3"
  },
  "language_info": {
   "codemirror_mode": {
    "name": "ipython",
    "version": 3
   },
   "file_extension": ".py",
   "mimetype": "text/x-python",
   "name": "python",
   "nbconvert_exporter": "python",
   "pygments_lexer": "ipython3",
   "version": "3.9.2"
  },
  "orig_nbformat": 4
 },
 "nbformat": 4,
 "nbformat_minor": 2
}
